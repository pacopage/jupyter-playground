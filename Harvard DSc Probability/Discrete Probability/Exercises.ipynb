{
 "cells": [
  {
   "cell_type": "markdown",
   "metadata": {},
   "source": [
    "Exercise 3. Rolling a die\n",
    "\n",
    "If you roll a 6-sided die once, what is the probability of not seeing a 6? \n",
    "If you roll a 6-sided die six times, what is the probability of not seeing a 6 on any of those rolls?\n",
    "\n",
    "Instructions\n",
    "* Assign the variable p_no6 as the probability of not seeing a 6 on a single roll.\n",
    "* Then, calculate the probability of not seeing a 6 on six rolls using p_no6.\n"
   ]
  },
  {
   "cell_type": "code",
   "execution_count": 2,
   "metadata": {},
   "outputs": [
    {
     "name": "stdout",
     "output_type": "stream",
     "text": [
      "0.3348979766803842\n"
     ]
    }
   ],
   "source": [
    "p_no6 = 5/6\n",
    "\n",
    "prob_no_6_in_six_rolls = p_no6 ** 6\n",
    "\n",
    "print(prob_no_6_in_six_rolls)"
   ]
  },
  {
   "cell_type": "markdown",
   "metadata": {},
   "source": [
    "Exercise 4. Probability the Celtics win a game\n",
    "\n",
    "Two teams, say the Celtics and the Cavs, are playing a seven game series. The Cavs are a better team and have a 60% chance of winning each game.\n",
    "\n",
    "What is the probability that the Celtics win at least one game? Remember that the Celtics must win one of the first four games, or the series will be over!\n",
    "\n",
    "\n",
    "    Calculate the probability that the Cavs will win the first four games of the series.\n",
    "    Calculate the probability that the Celtics win at least one game in the first four games of the series.\n"
   ]
  },
  {
   "cell_type": "code",
   "execution_count": 3,
   "metadata": {},
   "outputs": [
    {
     "name": "stdout",
     "output_type": "stream",
     "text": [
      "0.1296\n",
      "0.8704000000000001\n"
     ]
    }
   ],
   "source": [
    "p_win_cav = 0.6\n",
    "p_cav_win_all_4 = p_win_cav ** 4\n",
    "p_celtics_at_least_1 = 1 - p_cav_win_all_4\n",
    "\n",
    "print(p_cav_win_all_4)\n",
    "print(p_celtics_at_least_1)"
   ]
  },
  {
   "cell_type": "markdown",
   "metadata": {},
   "source": [
    "Exercise 5. Monte Carlo simulation for Celtics winning a game\n",
    "\n",
    "Create a Monte Carlo simulation to confirm your answer to the previous problem by estimating how frequently the Celtics win at least 1 of 4 games. Use B <- 10000 simulations.\n",
    "\n",
    "The provided sample code simulates a single series of four random games, simulated_games.\n",
    "Instructions\n",
    "100 XP\n",
    "\n",
    "    Use the replicate function for B <- 10000 simulations of a four game series. The results of replicate should be stored to a variable named celtic_wins.\n",
    "    Within each simulation, replicate the sample code to simulate a four-game series named simulated_games. Then, use the any function to indicate whether the four-game series contains at least one win for the Celtics. Perform these operations in two separate steps.\n",
    "    Use the mean function on celtic_wins to find the proportion of simulations that contain at least one win for the Celtics out of four games.\n"
   ]
  },
  {
   "cell_type": "code",
   "execution_count": 1,
   "metadata": {},
   "outputs": [
    {
     "name": "stdout",
     "output_type": "stream",
     "text": [
      "0.8671\n"
     ]
    }
   ],
   "source": [
    "import pyro\n",
    "import torch\n",
    "\n",
    "def four_game_series():\n",
    "    with pyro.plate(\"4series\", 4):\n",
    "        return pyro.sample(\"celtics_win\", pyro.distributions.Bernoulli(0.4))\n",
    "\n",
    "B = 10000\n",
    "count_AtLeastOneWin = 0\n",
    "for _ in range(B):\n",
    "    simulated_games = four_game_series()\n",
    "    if(torch.mean(simulated_games).item() > 0):\n",
    "        count_AtLeastOneWin += 1\n",
    "\n",
    "prob_celtics_win = count_AtLeastOneWin / B\n",
    "\n",
    "print(prob_celtics_win)"
   ]
  },
  {
   "cell_type": "markdown",
   "metadata": {},
   "source": [
    "Part 3"
   ]
  },
  {
   "cell_type": "markdown",
   "metadata": {},
   "source": [
    "Exercise 1. The Cavs and the Warriors\n",
    "\n",
    "Two teams, say the Cavs and the Warriors, are playing a seven game championship series. The first to win four games wins the series. The teams are equally good, so they each have a 50-50 chance of winning each game.\n",
    "\n",
    "If the Cavs lose the first game, what is the probability that they win the series?\n",
    "Instructions:\n",
    "* Assign the number of remaining games to the variable n.\n",
    "* Assign a variable outcomes as a vector of possible outcomes in a single game, where 0 indicates a loss and 1 indicates a win for the Cavs.\n",
    "* Assign a variable l to a list of all possible outcomes in all remaining games. Use the rep function to create a list of n games, where each game consists of list(outcomes).\n",
    "* Use the expand.grid function to create a data frame containing all the combinations of possible outcomes of the remaining games.\n",
    "* Use the rowSums function to identify which combinations of game outcomes result in the Cavs winning the number of games necessary to win the series.\n",
    "* Use the mean function to calculate the proportion of outcomes that result in the Cavs winning the series and print your answer to the console.\n"
   ]
  },
  {
   "cell_type": "code",
   "execution_count": 1,
   "metadata": {},
   "outputs": [
    {
     "name": "stdout",
     "output_type": "stream",
     "text": [
      "torch.Size([35, 6])\n",
      "15\n",
      "0.42857142857142855\n"
     ]
    }
   ],
   "source": [
    "import torch\n",
    "import pyro\n",
    "import itertools\n",
    "\n",
    "def permutations(perms):\n",
    "    wins = torch.ones(perms)\n",
    "    losses = torch.zeros(perms)\n",
    "    options = torch.cat((wins, losses))\n",
    "    return torch.unique(torch.tensor(list(itertools.permutations(options.tolist(), perms))), dim=0)\n",
    "\n",
    "def validSeries(all):\n",
    "    win_counts_per_serie = torch.sum(all_series, 1)\n",
    "    at_least_3 =  win_counts_per_serie > 2\n",
    "    at_most_4 = win_counts_per_serie < 5\n",
    "    combined = at_least_3 & at_most_4\n",
    "    valid_series_idx = torch.where(combined, torch.ones(1), torch.zeros(1)).nonzero()[:,0]\n",
    "    return torch.index_select(all, 0, valid_series_idx)\n",
    "\n",
    "def find_win_series(series):\n",
    "    win_counts = torch.sum(series, 1)\n",
    "    \n",
    "    winning_series = torch.where(win_counts == 4, torch.ones(1), torch.zeros(1)).nonzero()\n",
    "    return winning_series.size()[0]\n",
    "\n",
    "all_series = permutations(6)\n",
    "valid_series = validSeries(all_series)\n",
    "# correct: 35. 70 would be all but is only half as first game is lost\n",
    "print(valid_series.size())\n",
    "winning = find_win_series(valid_series)\n",
    "\n",
    "print(winning)\n",
    "win_prob = winning / valid_series.size()[0]\n",
    "print(win_prob)"
   ]
  },
  {
   "cell_type": "markdown",
   "metadata": {},
   "source": [
    "Exercise 2. The Cavs and the Warriors - Monte Carlo\n",
    "\n",
    "Confirm the results of the previous question with a Monte Carlo simulation to estimate the probability of the Cavs winning the series after losing the first game.\n",
    "\n",
    "Instructions\n",
    "* Use the replicate function to replicate the sample code for B <- 10000 simulations.\n",
    "* Use the sample function to simulate a series of 6 games with random, independent outcomes of either a loss for the Cavs (0) or a win for the Cavs (1) in that order. Use the default probabilities to sample.\n",
    "* Use the sum function to determine whether a simulated series contained at least 4 wins for the Cavs.\n",
    "* Use the mean function to find the proportion of simulations in which the Cavs win at least 4 of the remaining games. Print your answer to the console.\n"
   ]
  },
  {
   "cell_type": "code",
   "execution_count": 19,
   "metadata": {},
   "outputs": [
    {
     "name": "stdout",
     "output_type": "stream",
     "text": [
      "0.426\n"
     ]
    }
   ],
   "source": [
    "import pyro\n",
    "import torch\n",
    "\n",
    "def play_a_game():\n",
    "    return pyro.sample(\"game\", pyro.distributions.Bernoulli(0.5)).item() == 1.\n",
    "\n",
    "def play_a_series():\n",
    "    wins = 0\n",
    "    for i in range(6):\n",
    "        won_game = play_a_game()\n",
    "        if(won_game):\n",
    "            wins += 1\n",
    "    \n",
    "    if(wins == 4):\n",
    "        return True\n",
    "    if(wins == 3):\n",
    "        return False\n",
    "    \n",
    "    return play_a_series()\n",
    "\n",
    "def play_a_series_2():\n",
    "    series = pyro.ops.stats.resample(torch.tensor([0.,1.]), 6, replacement=True)\n",
    "    wins = series.nonzero().size()[0]\n",
    "    if(wins == 3):\n",
    "        return False\n",
    "    if(wins == 4):\n",
    "        return True\n",
    "    # Ignore a not-possible serie\n",
    "    return play_a_series_2()\n",
    "    \n",
    "B = 10000\n",
    "won_series = 0\n",
    "for _ in range(B):\n",
    "    if(play_a_series()):\n",
    "        won_series += 1\n",
    "\n",
    "prob = won_series / B\n",
    "# value seems to be too low\n",
    "print(prob)"
   ]
  },
  {
   "cell_type": "markdown",
   "metadata": {},
   "source": [
    "Exercise 3. A and B play a series - part 1\n",
    "\n",
    "Two teams, A\n",
    "and B, are playing a seven series game series. Team A is better than team B and has a p>0.5\n",
    "\n",
    "chance of winning each game.\n",
    "\n",
    "Instructions\n",
    "* Use the function sapply to compute the probability, call it Pr of winning for p <- seq(0.5, 0.95, 0.025).\n",
    "    Then plot the result plot(p, Pr).\n",
    "    \n",
    " \n",
    " \n"
   ]
  },
  {
   "cell_type": "code",
   "execution_count": 9,
   "metadata": {},
   "outputs": [
    {
     "name": "stdout",
     "output_type": "stream",
     "text": [
      "[0.5, 0.999806421875, 1.2868530273437503e-05]\n"
     ]
    },
    {
     "data": {
      "text/plain": [
       "Text(0, 0.5, 'Series Win Prob')"
      ]
     },
     "execution_count": 9,
     "metadata": {},
     "output_type": "execute_result"
    },
    {
     "data": {
      "image/png": "[encoded data removed]",
      "text/plain": [
       "<Figure size 432x288 with 1 Axes>"
      ]
     },
     "metadata": {
      "needs_background": "light"
     },
     "output_type": "display_data"
    }
   ],
   "source": [
    "import torch\n",
    "import matplotlib.pyplot as plt\n",
    "import itertools\n",
    "\n",
    "def win_series_prob(series, won, remaining, win_p):\n",
    "    if(won == int((series / 2) + 1)):\n",
    "        return 1.\n",
    "    if((won + remaining) < int((series / 2) + 1)):\n",
    "        return 0.\n",
    "    win_next = win_p * win_series_prob(series, won + 1, remaining -1, win_p)\n",
    "    lose_next = (1 - win_p) * win_series_prob(series, won, remaining -1, win_p)\n",
    "    return win_next + lose_next\n",
    "    \n",
    "\n",
    "game_win_probs = (0.5, 0.95, 0.025)\n",
    "series_win_probs = []\n",
    "for p in game_win_probs:\n",
    "    series_win_probs.append(win_series_prob(7, 0, 7, p))\n",
    "    \n",
    "print(series_win_probs)\n",
    "    \n",
    "    \n",
    "plt.plot(game_win_probs, series_win_probs, 'b.')\n",
    "plt.xlabel(\"GW PRob\")\n",
    "plt.ylabel('Series Win Prob')"
   ]
  },
  {
   "cell_type": "markdown",
   "metadata": {},
   "source": [
    "Exercise 4. A and B play a series - part 2\n",
    "\n",
    "Repeat the previous exercise, but now keep the probability that team A\n",
    "\n",
    "wins fixed at p <- 0.75 and compute the probability for different series lengths. For example, wins in best of 1 game, 3 games, 5 games, and so on through a series that lasts 25 games.\n",
    "\n",
    "Instructions\n",
    "* Use the seq function to generate a list of odd numbers ranging from 1 to 25.\n",
    "* Use the function sapply to compute the probability, call it Pr, of winning during series of different lengths.\n",
    "    Then plot the result plot(N, Pr).\n",
    "\n"
   ]
  },
  {
   "cell_type": "code",
   "execution_count": 10,
   "metadata": {},
   "outputs": [
    {
     "name": "stdout",
     "output_type": "stream",
     "text": [
      "[0.75, 0.84375, 0.896484375, 0.929443359375, 0.9510726928710938, 0.965672492980957, 0.975709855556488, 0.9827001616358757, 0.9876152205979452, 0.9910967206960777, 0.9935772895159971, 0.9953531512848031, 0.9966295519311323]\n"
     ]
    },
    {
     "data": {
      "text/plain": [
       "Text(0, 0.5, 'Series Win Prob')"
      ]
     },
     "execution_count": 10,
     "metadata": {},
     "output_type": "execute_result"
    },
    {
     "data": {
      "image/png": "[encoded data removed]",
      "text/plain": [
       "<Figure size 432x288 with 1 Axes>"
      ]
     },
     "metadata": {
      "needs_background": "light"
     },
     "output_type": "display_data"
    }
   ],
   "source": [
    "series_length = range(1,26,2)\n",
    "series_win_probs = []\n",
    "for s in series_length:\n",
    "    series_win_probs.append(win_series_prob(s, 0, s, 0.75))\n",
    "    \n",
    "print(series_win_probs)\n",
    "    \n",
    "    \n",
    "plt.plot(series_length, series_win_probs, 'b.')\n",
    "plt.xlabel(\"Series Length\")\n",
    "plt.ylabel('Series Win Prob')"
   ]
  }
 ],
 "metadata": {
  "kernelspec": {
   "display_name": "Python 3",
   "language": "python",
   "name": "python3"
  },
  "language_info": {
   "codemirror_mode": {
    "name": "ipython",
    "version": 3
   },
   "file_extension": ".py",
   "mimetype": "text/x-python",
   "name": "python",
   "nbconvert_exporter": "python",
   "pygments_lexer": "ipython3",
   "version": "3.6.9"
  }
 },
 "nbformat": 4,
 "nbformat_minor": 2
}
