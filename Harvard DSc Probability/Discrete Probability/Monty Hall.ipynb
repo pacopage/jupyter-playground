{
 "cells": [
  {
   "cell_type": "markdown",
   "metadata": {},
   "source": [
    "Simulate:\n",
    "\n",
    "given 3 doors: randomly assign prize to one\n",
    "now randomly pick one\n",
    "now randomly show door without prize\n",
    " => case 1: stick with door\n",
    " => case 2: choose remaining door\n",
    " \n",
    " => if your end door the prize door?"
   ]
  },
  {
   "cell_type": "code",
   "execution_count": 30,
   "metadata": {},
   "outputs": [
    {
     "name": "stdout",
     "output_type": "stream",
     "text": [
      "0.3302\n",
      "0.6575\n"
     ]
    }
   ],
   "source": [
    "import pyro\n",
    "import torch\n",
    "\n",
    "def showDoor(pick, win):\n",
    "    doorIdx = [0,1,2]\n",
    "    try:\n",
    "        doorIdx.remove(pick)\n",
    "        doorIdx.remove(win)\n",
    "    except ValueError:\n",
    "        pass  # do nothing!\n",
    "    if(len(doorIdx) > 1):\n",
    "        return int(pyro.ops.stats.resample(torch.tensor(doorIdx, dtype=torch.float), 1).item())\n",
    "    else:\n",
    "        return doorIdx[0]\n",
    "\n",
    "def chooseOther(pick, show):\n",
    "    doorIdx = [0,1,2]\n",
    "    doorIdx.remove(pick)\n",
    "    doorIdx.remove(show)\n",
    "    return doorIdx[0]\n",
    "\n",
    "def playMontyHall(stick):\n",
    "    doors = pyro.ops.stats.resample(torch.tensor([1., 0., 0.]), 3)\n",
    "    win_door = doors.nonzero()[0][0].item()\n",
    "    pick = int(pyro.ops.stats.resample(torch.arange(0, 2, dtype=torch.float), 1).item())\n",
    "    show = showDoor(pick, win_door)\n",
    "    if(stick):\n",
    "        return pick == win_door\n",
    "    else:\n",
    "        return chooseOther(pick, show) == win_door\n",
    "    \n",
    "B = 10000\n",
    "count_stick = 0\n",
    "count_change = 0\n",
    "\n",
    "for _ in range(B):\n",
    "    if(playMontyHall(True)):\n",
    "        count_stick += 1\n",
    "    if(playMontyHall(False)):\n",
    "        count_change += 1\n",
    "        \n",
    "prob_win_stick = count_stick / B\n",
    "prob_win_change = count_change / B\n",
    "\n",
    "print(prob_win_stick)\n",
    "print(prob_win_change)"
   ]
  },
  {
   "cell_type": "code",
   "execution_count": null,
   "metadata": {},
   "outputs": [],
   "source": []
  }
 ],
 "metadata": {
  "kernelspec": {
   "display_name": "Python 3",
   "language": "python",
   "name": "python3"
  },
  "language_info": {
   "codemirror_mode": {
    "name": "ipython",
    "version": 3
   },
   "file_extension": ".py",
   "mimetype": "text/x-python",
   "name": "python",
   "nbconvert_exporter": "python",
   "pygments_lexer": "ipython3",
   "version": "3.6.9"
  }
 },
 "nbformat": 4,
 "nbformat_minor": 2
}
