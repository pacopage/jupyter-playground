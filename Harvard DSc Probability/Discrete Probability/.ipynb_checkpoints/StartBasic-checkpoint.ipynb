{
 "cells": [
  {
   "cell_type": "markdown",
   "metadata": {},
   "source": [
    "Trying to replicate basic 1.1. R examples\n",
    "\n",
    "Setting the seed\n",
    "```R\n",
    "set.seed(1986) \n",
    "```\n",
    "\n",
    "Urn with 2 red and 3 blue beads => sample & simulate\n",
    "```R\n",
    "beads <- rep(c(\"red\", \"blue\"), times = c(2,3))    # create an urn with 2 red, 3 blue\n",
    "beads    # view beads object\n",
    "sample(beads, 1)    # sample 1 bead at random\n",
    "\n",
    "B <- 10000    # number of times to draw 1 bead\n",
    "events <- replicate(B, sample(beads, 1))    # draw 1 bead, B times\n",
    "tab <- table(events)    # make a table of outcome counts\n",
    "tab    # view count table\n",
    "prop.table(tab)    # view table of outcome proportions \n",
    "```\n",
    "\n",
    "Trying to do that in pyro:"
   ]
  },
  {
   "cell_type": "code",
   "execution_count": 2,
   "metadata": {},
   "outputs": [
    {
     "name": "stdout",
     "output_type": "stream",
     "text": [
      "0.4026\n",
      "0.5974\n"
     ]
    }
   ],
   "source": [
    "import pyro\n",
    "import torch\n",
    "from collections import Counter\n",
    "\n",
    "pyro.set_rng_seed(1321982)\n",
    "\n",
    "def mean(events, val):\n",
    "    c = Counter(events)\n",
    "    return c[val]/len(events)\n",
    "\n",
    "def replicate(samples, generator):\n",
    "    return [generator() for _ in pyro.plate(\"urn_test\", samples)]\n",
    "\n",
    "def draw_a_bead():\n",
    "    bead = pyro.sample(\"urn\", pyro.distributions.Bernoulli(0.4))\n",
    "    bead = \"red\" if bead.item() == 1.0 else \"blue\"\n",
    "    return bead\n",
    "    \n",
    "B = 10000\n",
    "events = replicate(B, draw_a_bead)\n",
    "print(mean(events, 'red'))\n",
    "print(mean(events, 'blue'))"
   ]
  },
  {
   "cell_type": "markdown",
   "metadata": {},
   "source": [
    "Giving again the urn => draw with or without replacement using pyro.resamples"
   ]
  },
  {
   "cell_type": "code",
   "execution_count": 9,
   "metadata": {},
   "outputs": [
    {
     "name": "stdout",
     "output_type": "stream",
     "text": [
      "tensor([1., 0., 0., 1., 0.])\n",
      "tensor([1., 0., 1., 1., 1.])\n"
     ]
    }
   ],
   "source": [
    "import pyro\n",
    "import torch\n",
    "\n",
    "# create the urn\n",
    "urn = torch.cat([torch.ones(2), torch.zeros(3)])\n",
    "# try out: no replacement\n",
    "print(pyro.ops.stats.resample(urn, 5))\n",
    "# try out: with replacement\n",
    "print(pyro.ops.stats.resample(urn, 5, replacement=True))\n"
   ]
  }
 ],
 "metadata": {
  "kernelspec": {
   "display_name": "Python 3",
   "language": "python",
   "name": "python3"
  },
  "language_info": {
   "codemirror_mode": {
    "name": "ipython",
    "version": 3
   },
   "file_extension": ".py",
   "mimetype": "text/x-python",
   "name": "python",
   "nbconvert_exporter": "python",
   "pygments_lexer": "ipython3",
   "version": "3.6.9"
  }
 },
 "nbformat": 4,
 "nbformat_minor": 2
}
