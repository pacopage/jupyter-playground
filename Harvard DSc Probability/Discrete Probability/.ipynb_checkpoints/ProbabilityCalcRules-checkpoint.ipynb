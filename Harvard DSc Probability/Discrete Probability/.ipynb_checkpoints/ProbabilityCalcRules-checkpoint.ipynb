{
 "cells": [
  {
   "cell_type": "markdown",
   "metadata": {},
   "source": [
    "Conditional: P(A | B)\n",
    "\n",
    "Multiplication: \n",
    "Joint Dist of A,B,C is\n",
    "$$P(A,B,C) = P(A) * P(B|A) * P(C|A,B)$$\n",
    "\n",
    "=> \n",
    "$$P(B | A) = \\frac{P(A,B) }{P(A)}$$"
   ]
  },
  {
   "cell_type": "code",
   "execution_count": null,
   "metadata": {},
   "outputs": [],
   "source": []
  }
 ],
 "metadata": {
  "kernelspec": {
   "display_name": "Python 3",
   "language": "python",
   "name": "python3"
  },
  "language_info": {
   "codemirror_mode": {
    "name": "ipython",
    "version": 3
   },
   "file_extension": ".py",
   "mimetype": "text/x-python",
   "name": "python",
   "nbconvert_exporter": "python",
   "pygments_lexer": "ipython3",
   "version": "3.6.9"
  }
 },
 "nbformat": 4,
 "nbformat_minor": 2
}
