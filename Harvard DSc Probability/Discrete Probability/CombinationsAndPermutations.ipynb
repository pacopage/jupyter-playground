{
 "cells": [
  {
   "cell_type": "markdown",
   "metadata": {},
   "source": [
    "Card Deck probability of things"
   ]
  },
  {
   "cell_type": "code",
   "execution_count": 1,
   "metadata": {},
   "outputs": [
    {
     "name": "stdout",
     "output_type": "stream",
     "text": [
      "0.07692307692307693\n"
     ]
    }
   ],
   "source": [
    "import torch\n",
    "\n",
    "suits = torch.tensor(range(4))\n",
    "ranks = torch.tensor([(i + 2) for i in range(13)])\n",
    "\n",
    "deck = torch.cartesian_prod(suits,ranks)\n",
    "\n",
    "def probOfRank(deck, rank):\n",
    "    foundRanks = torch.where(deck == rank)[1].nonzero()\n",
    "    return foundRanks.size()[0] / deck.size()[0]\n",
    "\n",
    "king = 13\n",
    "print(probOfRank(deck, king))"
   ]
  },
  {
   "cell_type": "markdown",
   "metadata": {},
   "source": [
    "Permutation & combination function"
   ]
  },
  {
   "cell_type": "code",
   "execution_count": 2,
   "metadata": {},
   "outputs": [
    {
     "name": "stdout",
     "output_type": "stream",
     "text": [
      "20\n",
      "10\n"
     ]
    }
   ],
   "source": [
    "import torch\n",
    "import itertools\n",
    "\n",
    "def permutations(perms, tensor):\n",
    "    return torch.tensor(list(itertools.permutations(tensor.tolist(), perms)))\n",
    "\n",
    "def combinations(perms, tensor):\n",
    "    return torch.combinations(tensor, perms)\n",
    "\n",
    "print(permutations(2, torch.tensor([(i + 1) for i in range(5)])).size()[0])\n",
    "print(combinations(2, torch.tensor([(i + 1) for i in range(5)])).size()[0])"
   ]
  },
  {
   "cell_type": "markdown",
   "metadata": {},
   "source": [
    "Probability: First and second card king with permutations"
   ]
  },
  {
   "cell_type": "code",
   "execution_count": 3,
   "metadata": {},
   "outputs": [
    {
     "name": "stdout",
     "output_type": "stream",
     "text": [
      "0.07692307692307693\n",
      "0.004524886877828055\n",
      "0.058823529411764705\n"
     ]
    }
   ],
   "source": [
    "hands = permutations(2, deck)\n",
    "\n",
    "king = 13\n",
    "# all perms, keep only first hand, take the rank\n",
    "firstHandRanks = hands[:, 0, 1]\n",
    "firstHandKings = torch.where(firstHandRanks == king, torch.ones(1), torch.zeros(1)).nonzero()\n",
    "\n",
    "probFirstHandKings = firstHandKings.size()[0] / hands.size()[0]\n",
    "print(probFirstHandKings)\n",
    "\n",
    "handsWithFirstHandIsKing = torch.index_select(hands, 0, firstHandKings[:,0])\n",
    "handsWithTwoKings = torch.where(handsWithFirstHandIsKing[:, 1, 1] == king, torch.ones(1), torch.zeros(1)).nonzero()\n",
    "probTwoKings = handsWithTwoKings.size()[0] / hands.size()[0]\n",
    "print(probTwoKings)\n",
    "\n",
    "probSecondKingAfterFirstKing = probTwoKings / probFirstHandKings\n",
    "\n",
    "print(probSecondKingAfterFirstKing)\n"
   ]
  },
  {
   "cell_type": "markdown",
   "metadata": {},
   "source": [
    "BlackJack - probability natural 21 counting with permutations:"
   ]
  },
  {
   "cell_type": "code",
   "execution_count": 36,
   "metadata": {},
   "outputs": [
    {
     "name": "stdout",
     "output_type": "stream",
     "text": [
      "Natural Black Jack probability is:\n",
      "0.048265460030165915\n"
     ]
    }
   ],
   "source": [
    "# given a bool tensor => we do OR and check for rank given in pos\n",
    "def rankConditions(boolT, ranks, posHandRanks):\n",
    "    if(len(ranks) == 0):\n",
    "        return boolT\n",
    "    nextRank = ranks.pop()\n",
    "    nextCondition = posHandRanks == nextRank\n",
    "    if(boolT == None):\n",
    "        return rankConditions(nextCondition, ranks, posHandRanks)\n",
    "    else:\n",
    "        return rankConditions(boolT | nextCondition, ranks, posHandRanks)\n",
    "\n",
    "def handsWithRanksAt(hands, pos, ranks):\n",
    "    posHandRanks = hands[:, pos, 1]\n",
    "    conditionApplied = rankConditions(None, ranks.copy(), posHandRanks)\n",
    "    handsWithAnyOfRanksAtPos = torch.where(conditionApplied, torch.ones(1), torch.zeros(1)).nonzero()\n",
    "    return torch.index_select(hands, 0, handsWithAnyOfRanksAtPos[:,0])\n",
    "\n",
    "def naturalBlackJackProb(hands):\n",
    "    ace = 14\n",
    "    faceCards = [10,11,12,13]\n",
    "    aceFirstHands = handsWithRanksAt(hands, 0, [ace])\n",
    "    faceCardSecondWithAceFirstHand = handsWithRanksAt(aceFirstHands, 1, faceCards)\n",
    "    faceCardFirstHands = handsWithRanksAt(hands, 0, faceCards)\n",
    "    aceSecondWithFaceCardFirsts = handsWithRanksAt(faceCardFirstHands, 1, [ace])\n",
    "    return faceCardSecondWithAceFirstHand.size()[0] / hands.size()[0] + aceSecondWithFaceCardFirsts.size()[0] / hands.size()[0]\n",
    "\n",
    "print(\"Natural Black Jack probability is:\")\n",
    "print(naturalBlackJackProb(hands))\n"
   ]
  },
  {
   "cell_type": "markdown",
   "metadata": {},
   "source": [
    "Natural Black Jack probability by sampling:"
   ]
  },
  {
   "cell_type": "code",
   "execution_count": 37,
   "metadata": {},
   "outputs": [
    {
     "name": "stdout",
     "output_type": "stream",
     "text": [
      "Natural Black Jack probability is:\n",
      "0.048299999999999996\n"
     ]
    }
   ],
   "source": [
    "import pyro\n",
    "\n",
    "# input tensor need to be of floars\n",
    "deck_f = torch.div(deck, 1.)\n",
    "\n",
    "def draw2():\n",
    "    return pyro.ops.stats.resample(deck_f, 2)\n",
    "\n",
    "sampled_hands = torch.stack([draw2() for _ in range(10000)])\n",
    "print(\"Natural Black Jack probability is:\")\n",
    "print(naturalBlackJackProb(sampled_hands))"
   ]
  }
 ],
 "metadata": {
  "kernelspec": {
   "display_name": "Python 3",
   "language": "python",
   "name": "python3"
  },
  "language_info": {
   "codemirror_mode": {
    "name": "ipython",
    "version": 3
   },
   "file_extension": ".py",
   "mimetype": "text/x-python",
   "name": "python",
   "nbconvert_exporter": "python",
   "pygments_lexer": "ipython3",
   "version": "3.6.9"
  }
 },
 "nbformat": 4,
 "nbformat_minor": 2
}
