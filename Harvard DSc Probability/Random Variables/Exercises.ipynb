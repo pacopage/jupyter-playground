{
 "cells": [
  {
   "cell_type": "markdown",
   "metadata": {},
   "source": [
    "Exercise 1. American Roulette probabilities\n",
    "\n",
    "An American roulette wheel has 18 red, 18 black, and 2 green pockets. Each red and black pocket is associated with a number from 1 to 36. The two remaining green slots feature \"0\" and \"00\". Players place bets on which pocket they think a ball will land in after the wheel is spun. Players can bet on a specific number (0, 00, 1-36) or color (red, black, or green).\n",
    "\n",
    "What are the chances that the ball lands in a green pocket?"
   ]
  },
  {
   "cell_type": "code",
   "execution_count": 8,
   "metadata": {},
   "outputs": [
    {
     "name": "stdout",
     "output_type": "stream",
     "text": [
      "0.05263157894736842\n"
     ]
    }
   ],
   "source": [
    "p_green = 2 / (18 + 18 + 2)\n",
    "print(p_green)"
   ]
  },
  {
   "cell_type": "markdown",
   "metadata": {},
   "source": [
    "Exercise 2. American Roulette payout\n",
    "\n",
    "In American roulette, the payout for winning on green is $17. This means that if you bet $1 and it lands on green, you get $17 as a prize.\n",
    "\n",
    "Create a model to predict your winnings from betting on green one time."
   ]
  },
  {
   "cell_type": "code",
   "execution_count": 18,
   "metadata": {},
   "outputs": [],
   "source": [
    "import pyro\n",
    "import torch\n",
    "\n",
    "def greenWin():\n",
    "    return torch.where(pyro.sample(\"greenWin\", pyro.distributions.Binomial(probs=p_green)) == 1.0, torch.tensor(17.0), torch.tensor(-1.0))"
   ]
  },
  {
   "cell_type": "markdown",
   "metadata": {},
   "source": [
    "Exercise 3. American Roulette expected value\n",
    "\n",
    "In American roulette, the payout for winning on green is $17. This means that if you bet $1 and it lands on green, you get $17 as a prize.In the previous exercise, you created a model to predict your winnings from betting on green.\n",
    "\n",
    "Now, compute the expected value of X\n",
    ", the random variable you generated previously."
   ]
  },
  {
   "cell_type": "code",
   "execution_count": 20,
   "metadata": {},
   "outputs": [
    {
     "name": "stdout",
     "output_type": "stream",
     "text": [
      "-0.06723999977111816\n",
      "-0.052631578947368585\n"
     ]
    }
   ],
   "source": [
    "import torch\n",
    "import pyro\n",
    "\n",
    "def getSampleExpectedWinning():\n",
    "    with pyro.plate(\"greenWin\", 50000):\n",
    "        return torch.mean(greenWin())\n",
    "    \n",
    "sample_exp_win = getSampleExpectedWinning().item()\n",
    "comp_exp_win = 17 * p_green + -1 * (1 - p_green)\n",
    "\n",
    "print(sample_exp_win)\n",
    "print(comp_exp_win)"
   ]
  },
  {
   "cell_type": "markdown",
   "metadata": {},
   "source": [
    "Exercise 4. American Roulette standard error\n",
    "\n",
    "The standard error of a random variable X\n",
    "tells us the difference between a random variable and its expected value. You calculated a random variable X\n",
    "\n",
    "in exercise 2 and the expected value of that random variable in exercise 3.\n",
    "\n",
    "Now, compute the standard error of that random variable, which represents a single outcome after one spin of the roulette wheel."
   ]
  },
  {
   "cell_type": "code",
   "execution_count": 22,
   "metadata": {},
   "outputs": [
    {
     "name": "stdout",
     "output_type": "stream",
     "text": [
      "3.961460899066654\n",
      "4.019343808849849\n"
     ]
    }
   ],
   "source": [
    "import math\n",
    "import torch\n",
    "\n",
    "def computeSEfromSamples(expected):\n",
    "    with pyro.plate(\"greenWin\", 50000):\n",
    "        samples = greenWin()\n",
    "        s1 = samples - expected\n",
    "        s2 = s1 ** 2\n",
    "        return math.sqrt(torch.mean(s2))\n",
    "\n",
    "standard_error_sampled = computeSEfromSamples(sample_exp_win)\n",
    "standard_error_green_win = 18 * math.sqrt(p_green * (1 - p_green))\n",
    "print(standard_error_sampled)\n",
    "print(standard_error_green_win)"
   ]
  },
  {
   "cell_type": "markdown",
   "metadata": {},
   "source": [
    "Exercise 5. American Roulette sum of winnings\n",
    "\n",
    "You modeled the outcome of a single spin of the roulette wheel, X\n",
    "\n",
    ", in exercise 2.\n",
    "\n",
    "Now create a random variable S\n",
    "that sums your winnings after betting on green 1,000 times."
   ]
  },
  {
   "cell_type": "code",
   "execution_count": 23,
   "metadata": {},
   "outputs": [],
   "source": [
    "n = 1000\n",
    "expected_win_sum = n * comp_exp_win"
   ]
  },
  {
   "cell_type": "markdown",
   "metadata": {},
   "source": [
    "Exercise 6. American Roulette winnings expected value\n",
    "\n",
    "In the previous exercise, you generated a vector of random outcomes, S\n",
    "\n",
    ", after betting on green 1,000 times.\n",
    "\n",
    "What is the expected value of S\n",
    "?"
   ]
  },
  {
   "cell_type": "code",
   "execution_count": 24,
   "metadata": {},
   "outputs": [
    {
     "name": "stdout",
     "output_type": "stream",
     "text": [
      "-52.63157894736858\n"
     ]
    }
   ],
   "source": [
    "print(expected_win_sum)"
   ]
  },
  {
   "cell_type": "markdown",
   "metadata": {},
   "source": [
    "Exercise 7. American Roulette winnings expected value\n",
    "\n",
    "You generated the expected value of S\n",
    "\n",
    ", the outcomes of 1,000 bets that the ball lands in the green pocket, in the previous exercise.\n",
    "\n",
    "What is the standard error of S\n",
    "?"
   ]
  },
  {
   "cell_type": "code",
   "execution_count": 25,
   "metadata": {},
   "outputs": [
    {
     "name": "stdout",
     "output_type": "stream",
     "text": [
      "127.10281135261964\n"
     ]
    }
   ],
   "source": [
    "standard_error_win_sum = math.sqrt(n) * standard_error_green_win\n",
    "print(standard_error_win_sum)"
   ]
  },
  {
   "cell_type": "markdown",
   "metadata": {},
   "source": [
    "Exercise 1. American Roulette probability of winning money\n",
    "\n",
    "The exercises in the previous chapter explored winnings in American roulette. In this chapter of exercises, we will continue with the roulette example and add in the Central Limit Theorem.\n",
    "\n",
    "In the previous chapter of exercises, you created a random variable S\n",
    "\n",
    "that is the sum of your winnings after betting on green a number of times in American Roulette.\n",
    "\n",
    "What is the probability that you end up winning money if you bet on green 100 times?"
   ]
  },
  {
   "cell_type": "code",
   "execution_count": 29,
   "metadata": {},
   "outputs": [
    {
     "name": "stdout",
     "output_type": "stream",
     "text": [
      "-5.2631578947368585\n",
      "40.193438088498496\n",
      "tensor(0.4479)\n"
     ]
    }
   ],
   "source": [
    "import pyro\n",
    "import math\n",
    "\n",
    "green_bet_win_dist = pyro.distributions.Normal(torch.tensor(100 * comp_exp_win), torch.tensor(math.sqrt(100) * standard_error_green_win))\n",
    "\n",
    "print(100 * comp_exp_win)\n",
    "print(math.sqrt(100) * standard_error_green_win)\n",
    "\n",
    "p_winning_money = 1 - green_bet_win_dist.cdf(0)\n",
    "print(p_winning_money)"
   ]
  },
  {
   "cell_type": "markdown",
   "metadata": {},
   "source": [
    "Exercise 2. American Roulette Monte Carlo simulation\n",
    "\n",
    "Create a Monte Carlo simulation that generates 10,000 outcomes of S\n",
    "\n",
    ", the sum of 100 bets.\n",
    "\n",
    "Compute the average and standard deviation of the resulting list and compare them to the expected value (-5.263158) and standard error (40.19344) for S\n",
    "that you calculated previously."
   ]
  },
  {
   "cell_type": "code",
   "execution_count": 32,
   "metadata": {},
   "outputs": [
    {
     "name": "stdout",
     "output_type": "stream",
     "text": [
      "tensor(-5.5558)\n",
      "tensor(39.8359)\n"
     ]
    }
   ],
   "source": [
    "import pyro\n",
    "import torch\n",
    "\n",
    "def betting100Times():\n",
    "    with pyro.plate(\"100times\", 100):\n",
    "        return torch.sum(greenWin())\n",
    "\n",
    "samples = []\n",
    "for _ in range(10000):\n",
    "    samples.append(betting100Times())\n",
    "\n",
    "sampled_win_sum_avg = torch.mean(torch.tensor(samples))\n",
    "sampled_win_sum_sdev = torch.std(torch.tensor(samples))\n",
    "\n",
    "print(sampled_win_sum_avg)\n",
    "print(sampled_win_sum_sdev)"
   ]
  },
  {
   "cell_type": "markdown",
   "metadata": {},
   "source": [
    "Exercise 3. American Roulette Monte Carlo vs CLT\n",
    "\n",
    "In this chapter, you calculated the probability of winning money in American roulette using the CLT.\n",
    "\n",
    "Now, calculate the probability of winning money from the Monte Carlo simulation. The Monte Carlo simulation from the previous exercise has already been pre-run for you, resulting in the variable S that contains a list of 10,000 simulated outcomes."
   ]
  },
  {
   "cell_type": "code",
   "execution_count": 34,
   "metadata": {},
   "outputs": [
    {
     "name": "stdout",
     "output_type": "stream",
     "text": [
      "0.4269\n"
     ]
    }
   ],
   "source": [
    "import torch\n",
    "\n",
    "samples_wins_greater_zero = torch.where(torch.tensor(samples) > 0.0, torch.ones(1), torch.zeros(1)).nonzero().size()[0]\n",
    "\n",
    "p_win_money_sampled = samples_wins_greater_zero / 10000\n",
    "print(p_win_money_sampled)"
   ]
  }
 ],
 "metadata": {
  "kernelspec": {
   "display_name": "Python 3",
   "language": "python",
   "name": "python3"
  },
  "language_info": {
   "codemirror_mode": {
    "name": "ipython",
    "version": 3
   },
   "file_extension": ".py",
   "mimetype": "text/x-python",
   "name": "python",
   "nbconvert_exporter": "python",
   "pygments_lexer": "ipython3",
   "version": "3.6.9"
  }
 },
 "nbformat": 4,
 "nbformat_minor": 2
}
