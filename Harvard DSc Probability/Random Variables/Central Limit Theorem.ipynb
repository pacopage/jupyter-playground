{
 "cells": [
  {
   "cell_type": "markdown",
   "metadata": {},
   "source": [
    "Of interest:\n",
    "one random variable with 2 outputs (can be generalized to more) => probability distribution of sum of n draws?\n",
    "\n",
    "Given random variable X with two outcomes a and b with p is probability of a\n",
    "then the expected value of X is\n",
    "$$E(X) = p * a + b * (1 - p)$$\n",
    "\n",
    "and for n draws\n",
    "$$E(sum(X)) = n * E(x)$$\n",
    "\n",
    "and the standard deviation of X is\n",
    "$$SE(X) = |b - a| * \\sqrt{p * (1 - p)}$$\n",
    "\n",
    "derived from standard deviation being\n",
    "$$\\sqrt{p * (a - E(X))² + (1 - p) * (b - E(X))²}$$\n",
    "\n",
    "and so standard error for n draws is\n",
    "$$\\sqrt{n} * SE(X)$$"
   ]
  },
  {
   "cell_type": "markdown",
   "metadata": {},
   "source": [
    "Central Limit Theorem:\n",
    "If the number of (independent) draws aka sample size is large, then the probability distribution of the sum of the independent draws is approximately normal.\n",
    "\n",
    "Thus we can use for the sum as approximation the normal distribution with E(sum(X)) and SE(sum(X))!\n",
    "\n",
    "Note: large depends => when the success probability is very low the CLT is generally not a good fit (a better one would be to use a Poisson distribution apparently)"
   ]
  },
  {
   "cell_type": "markdown",
   "metadata": {},
   "source": [
    "Some formula for independent random vars:\n",
    "\n",
    "$$E(a * X) = a * E(X)$$\n",
    "$$SE(a * X) = a * SE(X)$$\n",
    "$$E(X_1 + X_2 + \\ldots + X_n) = E(X_1) + E(X_2) + \\ldots + E(X_n)$$\n",
    "$$SE(X_1 + X_2 + \\ldots + X_n) = \\sqrt{SE(X_1)² + SE(X_2)² + \\ldots + SE(X_n)²}$$\n",
    "\n",
    "square of SE(X) is also called Variance of X\n"
   ]
  },
  {
   "cell_type": "markdown",
   "metadata": {},
   "source": [
    "The average of a number of n draws of a random variable can also be a random variable.\n",
    "\n",
    "So the expected value of the average of n draws is just\n",
    "$$E(avg(sum(X))) = \\frac{E(sum(X))}{n} = E(X)$$\n",
    "\n",
    "while the standard error of the average of n draws \n",
    "$$SE(avg(sum(X))) = \\frac{SE(sum(X))}{n} = \\frac{SE(X)}{\\sqrt{n}}$$"
   ]
  }
 ],
 "metadata": {
  "kernelspec": {
   "display_name": "Python 3",
   "language": "python",
   "name": "python3"
  },
  "language_info": {
   "codemirror_mode": {
    "name": "ipython",
    "version": 3
   },
   "file_extension": ".py",
   "mimetype": "text/x-python",
   "name": "python",
   "nbconvert_exporter": "python",
   "pygments_lexer": "ipython3",
   "version": "3.6.9"
  }
 },
 "nbformat": 4,
 "nbformat_minor": 2
}
