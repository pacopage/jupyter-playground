{
 "cells": [
  {
   "cell_type": "markdown",
   "metadata": {},
   "source": [
    "Exercise 1. Bank earnings\n",
    "\n",
    "Say you manage a bank that gives out 10,000 loans. The default rate is 0.03 and you lose $200,000 in each foreclosure.\n",
    "\n",
    "Create a random variable S\n",
    "\n",
    "that contains the earnings of your bank. Calculate the total amount of money lost in this scenario.\n",
    "Instructions\n",
    "100 XP\n",
    "\n",
    "    Using the sample function, generate a vector called defaults that contains n samples from a vector of c(0,1), where 0 indicates a payment and 1 indicates a default\n",
    "    Multiply the total number of defaults by the loss per foreclosure.\n"
   ]
  },
  {
   "cell_type": "code",
   "execution_count": 1,
   "metadata": {},
   "outputs": [
    {
     "name": "stdout",
     "output_type": "stream",
     "text": [
      "-60000000.0\n"
     ]
    }
   ],
   "source": [
    "exp_S = 10000 * 0.03 * -200000\n",
    "print(exp_S)"
   ]
  },
  {
   "cell_type": "markdown",
   "metadata": {},
   "source": [
    "Exercise 2. Bank earnings Monte Carlo\n",
    "\n",
    "Run a Monte Carlo simulation with 10,000 outcomes for S\n",
    "\n",
    ", the sum of losses over 10,000 loans. Make a histogram of the results.\n",
    "Instructions\n",
    "100 XP\n",
    "\n",
    "    Within a replicate loop with 10,000 iterations, use sample to generate a list of 10,000 loan outcomes: payment (0) or default (1). Use the outcome order c(0,1) and probability of default p_default.\n",
    "    Still within the loop, use the function sum to count the number of foreclosures multiplied by loss_per_foreclosure to return the sum of all losses across the 10,000 loans. If you do not take the sum inside the replicate loop, DataCamp may crash with a \"Session Expired\" error.\n",
    "    Plot the histogram of values using the function hist.\n"
   ]
  },
  {
   "cell_type": "code",
   "execution_count": 4,
   "metadata": {},
   "outputs": [
    {
     "data": {
      "text/plain": [
       "(array([  1.,   3.,   2.,   1.,   2.,   3.,   2.,   7.,  19.,  13.,  45.,\n",
       "         62.,  71.,  70., 142., 191., 123., 258., 353., 266., 479., 527.,\n",
       "        612., 463., 654., 675., 455., 695., 653., 399., 559., 506., 393.,\n",
       "        228., 285., 242., 128., 144.,  91.,  45.,  46.,  36.,  23.,  10.,\n",
       "         10.,   4.,   1.,   2.,   0.,   1.]),\n",
       " array([-74000000., -73460000., -72920000., -72380000., -71840000.,\n",
       "        -71300000., -70760000., -70220000., -69680000., -69140000.,\n",
       "        -68600000., -68060000., -67520000., -66980000., -66440000.,\n",
       "        -65900000., -65360000., -64820000., -64280000., -63740000.,\n",
       "        -63200000., -62660000., -62120000., -61580000., -61040000.,\n",
       "        -60500000., -59960000., -59420000., -58880000., -58340000.,\n",
       "        -57800000., -57260000., -56720000., -56180000., -55640000.,\n",
       "        -55100000., -54560000., -54020000., -53480000., -52940000.,\n",
       "        -52400000., -51860000., -51320000., -50780000., -50240000.,\n",
       "        -49700000., -49160000., -48620000., -48080000., -47540000.,\n",
       "        -47000000.]),\n",
       " <a list of 50 Patch objects>)"
      ]
     },
     "execution_count": 4,
     "metadata": {},
     "output_type": "execute_result"
    },
    {
     "data": {
      "image/png": "[encoded data removed]",
      "text/plain": [
       "<Figure size 432x288 with 1 Axes>"
      ]
     },
     "metadata": {
      "needs_background": "light"
     },
     "output_type": "display_data"
    }
   ],
   "source": [
    "import pyro\n",
    "import torch\n",
    "import matplotlib.pyplot as plt\n",
    "\n",
    "def loans(def_p, nr_loans, loss, earning):\n",
    "    with pyro.plate(\"loans\", nr_loans):\n",
    "        loan_samples = pyro.sample(\"loans\", pyro.distributions.Binomial(probs=def_p))\n",
    "        return torch.where(loan_samples == 1.0, torch.tensor(loss), torch.tensor(earning))\n",
    "    \n",
    "loss_sums = []\n",
    "for _ in range(10000):\n",
    "    loss_sums.append(torch.sum(loans(0.03, 10000, -200000.0, 0.0)).item())\n",
    "    \n",
    "plt.hist(loss_sums, bins=50)"
   ]
  },
  {
   "cell_type": "markdown",
   "metadata": {},
   "source": [
    "Exercise 3. Bank earnings expected value\n",
    "\n",
    "What is the expected value of S\n",
    "\n",
    ", the sum of losses over 10,000 loans? For now, assume a bank makes no money if the loan is paid.\n",
    "Instructions\n",
    "100 XP\n",
    "\n",
    "    Using the chances of default (p_default), calculate the expected losses over 10,000 loans.\n"
   ]
  },
  {
   "cell_type": "code",
   "execution_count": 5,
   "metadata": {},
   "outputs": [
    {
     "name": "stdout",
     "output_type": "stream",
     "text": [
      "-60000000.0\n"
     ]
    }
   ],
   "source": [
    "print(exp_S)"
   ]
  },
  {
   "cell_type": "markdown",
   "metadata": {},
   "source": [
    "Exercise 4. Bank earnings standard error\n",
    "\n",
    "What is the standard error of S\n",
    "\n",
    "?\n",
    "Instructions\n",
    "100 XP\n",
    "\n",
    "    Compute the standard error of the random variable S you generated in the previous exercise, the summed outcomes of 10,000 loans.\n"
   ]
  },
  {
   "cell_type": "code",
   "execution_count": 6,
   "metadata": {},
   "outputs": [
    {
     "name": "stdout",
     "output_type": "stream",
     "text": [
      "3411744.421846396\n"
     ]
    }
   ],
   "source": [
    "import math\n",
    "\n",
    "stderr_S = math.sqrt(10000) * 200000 * math.sqrt(0.03 * 0.97)\n",
    "print(stderr_S)"
   ]
  },
  {
   "cell_type": "markdown",
   "metadata": {},
   "source": [
    "Exercise 5. Bank earnings interest rate - 1\n",
    "\n",
    "So far, we've been assuming that we make no money when people pay their loans and we lose a lot of money when people default on their loans. Assume we give out loans for $180,000. How much money do we need to make when people pay their loans so that our net loss is $0?\n",
    "\n",
    "In other words, what interest rate do we need to charge in order to not lose money?\n",
    "Instructions\n",
    "100 XP\n",
    "\n",
    "    If the amount of money lost or gained equals 0, the probability of default times the total loss per default equals the amount earned per probability of the loan being paid.\n",
    "    Divide the total amount needed per loan by the loan amount to determine the interest rate.\n"
   ]
  },
  {
   "cell_type": "code",
   "execution_count": 10,
   "metadata": {},
   "outputs": [
    {
     "name": "stdout",
     "output_type": "stream",
     "text": [
      "5567.010309278351\n",
      "0.030927835051546396\n"
     ]
    }
   ],
   "source": [
    "interest_break_even = 0.03 * 180000 / 0.97\n",
    "print(interest_break_even)\n",
    "interest_rate = interest_break_even / 180000\n",
    "print(interest_rate)"
   ]
  },
  {
   "cell_type": "markdown",
   "metadata": {},
   "source": [
    "Exercise 6. Bank earnings interest rate - 2\n",
    "\n",
    "With the interest rate calculated in the last example, we still lose money 50% of the time. What should the interest rate be so that the chance of losing money is 1 in 20?\n",
    "\n",
    "In math notation, what should the interest rate be so that Pr(S<0)=0.05\n",
    "\n",
    "?\n",
    "\n",
    "Remember that we can add a constant to both sides of the equation to get:\n",
    "Pr(S−E[S]SE[S]<−E[S]SE[S])\n",
    "\n",
    "which is\n",
    "\n",
    "Pr(Z<−[lp+x(1−p)]n(x−l)np(1−p)−−−−−−−−√)=0.05\n",
    "\n",
    "Let z = qnorm(0.05) give us the value of z for which:\n",
    "Pr(Z≤z)=0.05\n",
    "\n",
    "Instructions\n",
    "100 XP\n",
    "\n",
    "    Use the qnorm function to compute a continuous variable at given quantile of the distribution to solve for z.\n",
    "    In this equation, l\n",
    "\n",
    ", p, and n\n",
    "are known values. Once you've solved for z, solve for x.\n",
    "Divide x by the loan amount to calculate the rate."
   ]
  },
  {
   "cell_type": "code",
   "execution_count": 19,
   "metadata": {},
   "outputs": [
    {
     "name": "stdout",
     "output_type": "stream",
     "text": [
      "6105.355550955643\n",
      "0.033918641949753574\n"
     ]
    }
   ],
   "source": [
    "z = pyro.distributions.Normal(torch.zeros(1), torch.ones(1)).icdf(torch.tensor(0.05)).item()\n",
    "n = 10000\n",
    "p = 0.03\n",
    "l = -180000\n",
    "\n",
    "w = -1 * l * (n * p - z * math.sqrt(n * p * (1 - p))) / (n * (1 - p) + z * math.sqrt(n * p * (1 - p)))\n",
    "needed_interest = w\n",
    "needed_interest_rate = w / 180000\n",
    "\n",
    "print(needed_interest)\n",
    "print(needed_interest_rate)"
   ]
  }
 ],
 "metadata": {
  "kernelspec": {
   "display_name": "Python 3",
   "language": "python",
   "name": "python3"
  },
  "language_info": {
   "codemirror_mode": {
    "name": "ipython",
    "version": 3
   },
   "file_extension": ".py",
   "mimetype": "text/x-python",
   "name": "python",
   "nbconvert_exporter": "python",
   "pygments_lexer": "ipython3",
   "version": "3.6.9"
  }
 },
 "nbformat": 4,
 "nbformat_minor": 2
}
