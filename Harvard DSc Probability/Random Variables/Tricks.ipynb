{
 "cells": [
  {
   "cell_type": "markdown",
   "metadata": {},
   "source": [
    "General:\n",
    "Given a loss l (i.e. l < 0) we make in each of n INDEPENDENT draws with probability p\n",
    "\n",
    "Then our expected loss is \n",
    "$$E(Loss) = n * p * l$$\n",
    "\n",
    "Now: assume we can freely set a w to cover our losses => being our result X, expected value becomes\n",
    "$$E(X) = n * (p * l + (1 - p) * w)$$\n",
    "\n",
    "If we want to find out how to set w so that expected value is no loss, we can set equation to be equal to zero and resolve to w:\n",
    "$$w =\\frac{p * -l}{1 - p}$$ "
   ]
  },
  {
   "cell_type": "markdown",
   "metadata": {},
   "source": [
    "But know we want to set w so that\n",
    "$$P(X \\leq 0) = 0.01$$\n",
    "\n",
    "i.e. the probability that we actually lose should be at most 1%\n",
    "\n",
    "because of CLT, we can model as a normal distribution with E(X) and SE(X)\n",
    "\n",
    "we can then change out distribution to resemble the standard normal distribution by subtraction of E(X) and dividing by SE(X) (for all values => Z-Score).\n",
    "\n",
    "So our formula changes to:\n",
    "$$P(\\frac{X - E(X)}{SE(X)} \\leq \\frac{-E(X)}{SE(X)}) = 0.01$$\n",
    "\n",
    "calling this a new random variable Z and replacing E(X) and SE(X) by definition yields\n",
    "$$P(Z \\leq \\frac{-𝑛∗(𝑝∗𝑙+(1−𝑝)∗𝑤)}{(w - l) * \\sqrt{n * p * (1 - p)}}) = 0.01$$\n",
    "\n",
    "We can calculate for a standard normal distribution for which value z the prob is smaller equal 0.01\n",
    "\n",
    "So we just need to resolve the formula\n",
    "$$z = \\frac{-𝑛∗(𝑝∗𝑙+(1−𝑝)∗𝑤)}{(w - l) * \\sqrt{n * p * (1 - p)}}$$\n",
    "\n",
    "to w => which gives us the value we need w set to to have a loss in only at most 1% of all draws!\n",
    "\n",
    "Use this:\n",
    "$$w = -l * \\frac{n * p - z * \\sqrt{n * p * (1 - p)}}{n * (1 - p) + z * \\sqrt{n * p * (1 - p)}}$$"
   ]
  },
  {
   "cell_type": "markdown",
   "metadata": {},
   "source": [
    "Note: we can do a similar calculation with fixing w and trying to find out how big n needs to be to have\n",
    "$$P(X \\leq 0) = 0.01$$\n",
    "\n",
    "by using same procedure but resolving equation to n instead of w (on the base that w is fixed so that expected value of a single draw is positive). Letting D being the rendom var of a single draw, we can choose n as\n",
    "$$n \\geq \\frac{z² * SE(D)²}{E(D)²}$$\n"
   ]
  },
  {
   "cell_type": "code",
   "execution_count": null,
   "metadata": {},
   "outputs": [],
   "source": []
  }
 ],
 "metadata": {
  "kernelspec": {
   "display_name": "Python 3",
   "language": "python",
   "name": "python3"
  },
  "language_info": {
   "codemirror_mode": {
    "name": "ipython",
    "version": 3
   },
   "file_extension": ".py",
   "mimetype": "text/x-python",
   "name": "python",
   "nbconvert_exporter": "python",
   "pygments_lexer": "ipython3",
   "version": "3.6.9"
  }
 },
 "nbformat": 4,
 "nbformat_minor": 2
}
