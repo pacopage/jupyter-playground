{
 "cells": [
  {
   "cell_type": "code",
   "execution_count": 3,
   "metadata": {
    "scrolled": true
   },
   "outputs": [
    {
     "name": "stdout",
     "output_type": "stream",
     "text": [
      "tensor([-0.9189])\n",
      "tensor([0.3989])\n",
      "tensor([0.5000])\n"
     ]
    },
    {
     "data": {
      "text/plain": [
       "[<matplotlib.lines.Line2D at 0x7ff56730bac8>,\n",
       " <matplotlib.lines.Line2D at 0x7ff56730bbe0>,\n",
       " <matplotlib.lines.Line2D at 0x7ff56730bd30>,\n",
       " <matplotlib.lines.Line2D at 0x7ff56730be80>]"
      ]
     },
     "execution_count": 3,
     "metadata": {},
     "output_type": "execute_result"
    },
    {
     "data": {
      "image/png": "[encoded data removed]",
      "text/plain": [
       "<Figure size 432x288 with 1 Axes>"
      ]
     },
     "metadata": {
      "needs_background": "light"
     },
     "output_type": "display_data"
    }
   ],
   "source": [
    "import torch\n",
    "import pyro\n",
    "import matplotlib.pyplot as pplot\n",
    "\n",
    "norm = torch.distributions.Normal(torch.tensor([0.0]), torch.tensor([1.0]))\n",
    "chi2 = torch.distributions.Chi2(torch.tensor([1.0]))\n",
    "gamma = torch.distributions.Gamma(torch.tensor([1.0]), torch.tensor([1.0]))\n",
    "studentt = torch.distributions.StudentT(torch.tensor([2.0]))\n",
    "\n",
    "# f is probability density function\n",
    "\n",
    "# log_prob = ln(f(x))\n",
    "print(norm.log_prob(torch.tensor([0.0])))\n",
    "# norm is our f => so this is f(0) => not the probability of P(x <= 0)!\n",
    "print(torch.exp(norm.log_prob(torch.tensor([0.0]))))\n",
    "\n",
    "# P(x <= 0)\n",
    "print(norm.cdf(torch.tensor([0.0])))\n",
    "\n",
    "# use inverse cdf to clauclate quantile, e.g. at p=0.99\n",
    "print(norm.icdf(torch.tensor([0.99])))\n",
    "\n",
    "# plotting normal distribbution mean 0, sdev 1\n",
    "x = torch.arange(-4.0,4.0,0.05)\n",
    "x_l = x.tolist()\n",
    "y_norm = torch.exp(norm.log_prob(x))\n",
    "y_chi2 = torch.exp(chi2.log_prob(x))\n",
    "y_gamma = torch.exp(gamma.log_prob(x))\n",
    "y_studentt = torch.exp(studentt.log_prob(x))\n",
    "\n",
    "pplot.plot(x_l,y_norm.tolist(), x_l, y_chi2, x_l, y_gamma, x_l, y_studentt)"
   ]
  },
  {
   "cell_type": "code",
   "execution_count": 2,
   "metadata": {},
   "outputs": [
    {
     "name": "stdout",
     "output_type": "stream",
     "text": [
      "tensor([-1.6094])\n",
      "tensor([0.2000])\n",
      "tensor([-0.2231])\n",
      "tensor([0.8000])\n"
     ]
    }
   ],
   "source": [
    "import torch\n",
    "import pyro\n",
    "\n",
    "bern = torch.distributions.Bernoulli(torch.tensor([0.2]))\n",
    "\n",
    "print(bern.log_prob(torch.tensor([1.0])))\n",
    "print(torch.exp(bern.log_prob(torch.tensor([1.0]))))\n",
    "print(bern.log_prob(torch.tensor([0.0])))\n",
    "print(torch.exp(bern.log_prob(torch.tensor([0.0]))))"
   ]
  }
 ],
 "metadata": {
  "kernelspec": {
   "display_name": "Python 3",
   "language": "python",
   "name": "python3"
  },
  "language_info": {
   "codemirror_mode": {
    "name": "ipython",
    "version": 3
   },
   "file_extension": ".py",
   "mimetype": "text/x-python",
   "name": "python",
   "nbconvert_exporter": "python",
   "pygments_lexer": "ipython3",
   "version": "3.6.9"
  }
 },
 "nbformat": 4,
 "nbformat_minor": 2
}
