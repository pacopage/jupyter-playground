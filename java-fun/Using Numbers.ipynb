{
 "cells": [
  {
   "cell_type": "markdown",
   "metadata": {},
   "source": [
    "*Place all code in the main method of your class:*\n",
    "\n",
    "the following number fits into an int, so this is fine"
   ]
  },
  {
   "cell_type": "code",
   "execution_count": 45,
   "metadata": {},
   "outputs": [
    {
     "name": "stdout",
     "output_type": "stream",
     "text": [
      "2000000000\n"
     ]
    }
   ],
   "source": [
    "int i = 2000000000;\n",
    "System.out.println(i);"
   ]
  },
  {
   "cell_type": "markdown",
   "metadata": {},
   "source": [
    "now we try to double the number"
   ]
  },
  {
   "cell_type": "code",
   "execution_count": 46,
   "metadata": {},
   "outputs": [
    {
     "ename": "CompilationException",
     "evalue": "",
     "output_type": "error",
     "traceback": [
      "\u001b[1m\u001b[30m|   \u001b[1m\u001b[30mint i3 = \u001b[0m\u001b[1m\u001b[30m\u001b[41m\u001b[0m\u001b[1m\u001b[30m4000000000;\u001b[0m",
      "\u001b[1m\u001b[31minteger number too large\u001b[0m",
      ""
     ]
    }
   ],
   "source": [
    "int i3 = 4000000000;"
   ]
  },
  {
   "cell_type": "markdown",
   "metadata": {},
   "source": [
    "This does not work => the compiler see that the number is too large for an integer\n",
    "\n",
    "Compare this with the following behavior, where we assign the doubled value of i to an int variable by **computing** it"
   ]
  },
  {
   "cell_type": "code",
   "execution_count": 47,
   "metadata": {},
   "outputs": [
    {
     "name": "stdout",
     "output_type": "stream",
     "text": [
      "-294967296\n"
     ]
    }
   ],
   "source": [
    "int i2 = i * 2;\n",
    "System.out.println(i2);"
   ]
  },
  {
   "cell_type": "markdown",
   "metadata": {},
   "source": [
    "the compiler is ok with that because \n",
    "* i is an int\n",
    "* 2 is an int\n",
    "* the result of multiplying two ints is also an int\n",
    "\n",
    "=> so this is allowed.\n",
    "\n",
    "**but:** \n",
    "when actually running this, the result becomes to big for an int \n",
    " => thus we experience an **overflow** so the number becomes a negative int"
   ]
  },
  {
   "cell_type": "markdown",
   "metadata": {},
   "source": [
    "But a **long** should be big enough to contain the doubled value of i,\n",
    "so let's try to assign the result of the computation to a long variable"
   ]
  },
  {
   "cell_type": "code",
   "execution_count": 48,
   "metadata": {},
   "outputs": [
    {
     "name": "stdout",
     "output_type": "stream",
     "text": [
      "-294967296\n"
     ]
    }
   ],
   "source": [
    "long l1 = i * 2;  \n",
    "System.out.println(l1);"
   ]
  },
  {
   "cell_type": "markdown",
   "metadata": {},
   "source": [
    "we still get the same result as in above though *4000000000* fits into a long\n",
    "\n",
    "the reason lies in how an **assignment** works: \n",
    "* first right side is evaluated\n",
    "* resulting value is then written into the variable\n",
    " \n",
    " so it works as if we've written:"
   ]
  },
  {
   "cell_type": "code",
   "execution_count": 49,
   "metadata": {},
   "outputs": [
    {
     "name": "stdout",
     "output_type": "stream",
     "text": [
      "-294967296\n"
     ]
    }
   ],
   "source": [
    "int tmp = i * 2;\n",
    "l1 = tmp;\n",
    "System.out.println(l1);"
   ]
  },
  {
   "cell_type": "markdown",
   "metadata": {},
   "source": [
    "in order to get the right result, we must ensure that the compiler knows \n",
    "that the result of our multiplication should be a *long*\n",
    " \n",
    " we can achieve that by declaring one of the variables in the multiplication of type *long*:"
   ]
  },
  {
   "cell_type": "code",
   "execution_count": 50,
   "metadata": {},
   "outputs": [
    {
     "name": "stdout",
     "output_type": "stream",
     "text": [
      "4000000000\n"
     ]
    }
   ],
   "source": [
    "long l2 = i;\n",
    "long l3 = l2 * 2;\n",
    "System.out.println(l3);"
   ]
  },
  {
   "cell_type": "markdown",
   "metadata": {},
   "source": [
    "#### Assignments between Variables of different types\n",
    "\n",
    "this is ok as i is an *int* and all *int* values fit into a *long*"
   ]
  },
  {
   "cell_type": "code",
   "execution_count": 51,
   "metadata": {},
   "outputs": [
    {
     "name": "stdout",
     "output_type": "stream",
     "text": [
      "1\n",
      "1\n"
     ]
    }
   ],
   "source": [
    "int j = 1;\n",
    "long l4 = j;\n",
    "System.out.println(j);\n",
    "System.out.println(l4);"
   ]
  },
  {
   "cell_type": "markdown",
   "metadata": {},
   "source": [
    "But the following will not compile: *long* type can contain bigger values than *int*\n",
    "(*note: compiler does not look at the actual current value which is 1 but only at the types of both variables*)"
   ]
  },
  {
   "cell_type": "code",
   "execution_count": 52,
   "metadata": {},
   "outputs": [
    {
     "ename": "CompilationException",
     "evalue": "",
     "output_type": "error",
     "traceback": [
      "\u001b[1m\u001b[30m|   \u001b[1m\u001b[30mint i4 = \u001b[0m\u001b[1m\u001b[30m\u001b[41ml4\u001b[0m\u001b[1m\u001b[30m;\u001b[0m",
      "\u001b[1m\u001b[31mincompatible types: possible lossy conversion from long to int\u001b[0m",
      ""
     ]
    }
   ],
   "source": [
    "int i4 = l4;"
   ]
  },
  {
   "cell_type": "markdown",
   "metadata": {},
   "source": [
    "**however**: if needed we can explicitely cast the *long* variable to an *int*\n",
    "we basically tell the compiler that we know what we are doing and it can just trust us"
   ]
  },
  {
   "cell_type": "code",
   "execution_count": 53,
   "metadata": {},
   "outputs": [
    {
     "name": "stdout",
     "output_type": "stream",
     "text": [
      "1\n"
     ]
    }
   ],
   "source": [
    "int i5 = (int)l4;\n",
    "System.out.println(i5);"
   ]
  }
 ],
 "metadata": {
  "kernelspec": {
   "display_name": "Java",
   "language": "java",
   "name": "java"
  },
  "language_info": {
   "codemirror_mode": "java",
   "file_extension": ".jshell",
   "mimetype": "text/x-java-source",
   "name": "Java",
   "pygments_lexer": "java",
   "version": "11.0.6+10-post-Ubuntu-1ubuntu118.04.1"
  }
 },
 "nbformat": 4,
 "nbformat_minor": 2
}
